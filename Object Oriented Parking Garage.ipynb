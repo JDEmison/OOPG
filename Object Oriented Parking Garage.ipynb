{
 "cells": [
  {
   "cell_type": "code",
   "execution_count": null,
   "id": "1db4e5bc",
   "metadata": {},
   "outputs": [],
   "source": [
    "tickets = [20]\n",
    "parkingSpaces = [20]\n",
    "currentTicket = {\n",
    "    'paid': False,\n",
    "}\n",
    "\n",
    "class ParkingGarage():\n",
    "    def __init__(self, tickets, parkingspaces):\n",
    "        self.tickets =  tickets\n",
    "        self.parkingspaces = parkingspaces\n",
    "    # takeTicket method needs to have an amount of tikcets and spots and can add and remove spots spots\n",
    "    def takeTicket(self):\n",
    "        global ticketInput\n",
    "        ticketInput = input(\"How many tickets do you want to purchase?: \")\n",
    "        if ticketInput  == \"0\":\n",
    "            print(\"We can't offer you 0 tickets\")\n",
    "        for t in tickets:\n",
    "            global t\n",
    "            ticketFinal = t - int(ticketInput) \n",
    "            print(ticketFinal)\n",
    "        for p in parkingSpaces:\n",
    "            global p\n",
    "            parkingSpaceTotal = p - int(ticketInput)\n",
    "    #payForParking displays an input that asks for the amount of tickets and needs an input that they are paid for\n",
    "    def payForParking(self):\n",
    "        ticketTotal = int(ticketInput) * 2\n",
    "        print(f'Your total is {ticketTotal}')\n",
    "        ticketPayment = input(\"Please input the amount needed: \")\n",
    "        if int(ticketPayment) == ticketTotal:\n",
    "            print('Thank you for your purchase(You have 15 mins of parking time)')\n",
    "            currentTicket['paid'] = True\n",
    "        else:\n",
    "            print('Please input the correct amount.')\n",
    "    #leaveGarage prints Thank you for the ticket if paid. if not paid for then ask for payment then display thank you. then add tickets and parking spaces back orginial list\n",
    "    def leaveGarage(self):\n",
    "        for value in currentTicket.values():\n",
    "            if value == True:\n",
    "                print('You are good to go have a good day.')\n",
    "                t + int(ticketInput)\n",
    "            elif value == False:\n",
    "                print(\"You haven't purchased a ticket. Please go purchase a ticket.\")\n",
    "print(tickets)\n",
    "print(parkingSpaces)\n",
    "\n",
    "myPark = ParkingGarage(20, 20)\n",
    "\n",
    "while True:\n",
    "    response = input(\"What would you like to do buy or leave?: \")\n",
    "    if response == 'buy':\n",
    "        myPark.takeTicket()\n",
    "        paymentInput = input('Please input pay to move onto the payment section:')\n",
    "        if paymentInput == 'pay':\n",
    "            myPark.payForParking()\n",
    "    if response == 'leave':\n",
    "        myPark.leaveGarage()\n",
    "        break"
   ]
  },
  {
   "cell_type": "code",
   "execution_count": null,
   "id": "c6df6db3",
   "metadata": {},
   "outputs": [],
   "source": []
  },
  {
   "cell_type": "code",
   "execution_count": null,
   "id": "7b72d323",
   "metadata": {},
   "outputs": [],
   "source": []
  }
 ],
 "metadata": {
  "kernelspec": {
   "display_name": "Python 3 (ipykernel)",
   "language": "python",
   "name": "python3"
  },
  "language_info": {
   "codemirror_mode": {
    "name": "ipython",
    "version": 3
   },
   "file_extension": ".py",
   "mimetype": "text/x-python",
   "name": "python",
   "nbconvert_exporter": "python",
   "pygments_lexer": "ipython3",
   "version": "3.9.13"
  }
 },
 "nbformat": 4,
 "nbformat_minor": 5
}
